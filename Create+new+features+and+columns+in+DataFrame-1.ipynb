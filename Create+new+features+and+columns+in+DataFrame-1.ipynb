{
 "cells": [
  {
   "cell_type": "code",
   "execution_count": 1,
   "metadata": {},
   "outputs": [],
   "source": [
    "import pandas as pd\n",
    "import matplotlib.pyplot as plt\n",
    "%matplotlib inline"
   ]
  },
  {
   "cell_type": "code",
   "execution_count": 5,
   "metadata": {},
   "outputs": [],
   "source": [
    "fb = pd.read_csv('FB.csv')\n",
    "# ms = pd.DataFrame.from_csv('../data/microsoft.csv')"
   ]
  },
  {
   "cell_type": "code",
   "execution_count": 6,
   "metadata": {},
   "outputs": [
    {
     "data": {
      "text/plain": [
       "Index(['Date', 'ID', 'Close', 'Low', 'High', 'Volume', 'C(t-5)', 'C(t-4)',\n",
       "       'C(t-3)', 'C(t-2)', 'C(t-4)>C(t-5)', 'C(t-3)>C(t-4)', 'C(t-2)>C(t-3)',\n",
       "       'C(t-1)>C(t-2)', 'MA-10', 'MA-5', 'WMA-10', 'SO', 'M', 'SSO', 'EMA',\n",
       "       'MACD_Sline_9', 'RSI', 'CCI', 'ADO', 'MA-10>C', 'MA-5>C', 'WMA-10>C',\n",
       "       'SO>SOt-1', 'M>0', 'SSO>SSOt-1', 'EMA>C', 'MACD t-1 > MACD t-2',\n",
       "       'RSI70-30', 'CCI200-200', 'ADO>ADOt-1', 'HIS', 'DAX', 'AORD', 'N100',\n",
       "       'N225', 'SP500', 'SSE', 'Closing_Direction'],\n",
       "      dtype='object')"
      ]
     },
     "execution_count": 6,
     "metadata": {},
     "output_type": "execute_result"
    }
   ],
   "source": [
    "fb.columns"
   ]
  },
  {
   "cell_type": "code",
   "execution_count": 10,
   "metadata": {},
   "outputs": [],
   "source": [
    "columns=['C(t-3)', 'C(t-2)', 'C(t-4)>C(t-5)', 'C(t-3)>C(t-4)', 'C(t-2)>C(t-3)',\n",
    "       'C(t-1)>C(t-2)', 'MA-10', 'MA-5', 'WMA-10', 'SO', 'M', 'SSO', 'EMA',\n",
    "       'MACD_Sline_9', 'RSI', 'CCI', 'ADO', 'MA-10>C', 'MA-5>C', 'WMA-10>C',\n",
    "       'SO>SOt-1', 'M>0', 'SSO>SSOt-1', 'EMA>C', 'MACD t-1 > MACD t-2',\n",
    "       'RSI70-30', 'CCI200-200', 'ADO>ADOt-1', 'HIS', 'DAX', 'AORD', 'N100',\n",
    "       'N225', 'SP500', 'SSE', 'Closing_Direction']"
   ]
  },
  {
   "cell_type": "code",
   "execution_count": 13,
   "metadata": {},
   "outputs": [],
   "source": [
    "fb=fb.drop(columns,axis=1)"
   ]
  },
  {
   "cell_type": "code",
   "execution_count": 14,
   "metadata": {},
   "outputs": [
    {
     "data": {
      "text/plain": [
       "Index(['Date', 'ID', 'Close', 'Low', 'High', 'Volume', 'C(t-5)', 'C(t-4)'], dtype='object')"
      ]
     },
     "execution_count": 14,
     "metadata": {},
     "output_type": "execute_result"
    }
   ],
   "source": [
    "fb.columns"
   ]
  },
  {
   "cell_type": "code",
   "execution_count": 17,
   "metadata": {},
   "outputs": [],
   "source": [
    "fb=fb.drop( ['C(t-5)', 'C(t-4)'],axis=1)"
   ]
  },
  {
   "cell_type": "code",
   "execution_count": 18,
   "metadata": {},
   "outputs": [
    {
     "data": {
      "text/html": [
       "<div>\n",
       "<style scoped>\n",
       "    .dataframe tbody tr th:only-of-type {\n",
       "        vertical-align: middle;\n",
       "    }\n",
       "\n",
       "    .dataframe tbody tr th {\n",
       "        vertical-align: top;\n",
       "    }\n",
       "\n",
       "    .dataframe thead th {\n",
       "        text-align: right;\n",
       "    }\n",
       "</style>\n",
       "<table border=\"1\" class=\"dataframe\">\n",
       "  <thead>\n",
       "    <tr style=\"text-align: right;\">\n",
       "      <th></th>\n",
       "      <th>Date</th>\n",
       "      <th>ID</th>\n",
       "      <th>Close</th>\n",
       "      <th>Low</th>\n",
       "      <th>High</th>\n",
       "      <th>Volume</th>\n",
       "    </tr>\n",
       "  </thead>\n",
       "  <tbody>\n",
       "    <tr>\n",
       "      <th>0</th>\n",
       "      <td>2012-07-09</td>\n",
       "      <td>41099</td>\n",
       "      <td>31.730000</td>\n",
       "      <td>31.260000</td>\n",
       "      <td>31.900000</td>\n",
       "      <td>10945600</td>\n",
       "    </tr>\n",
       "    <tr>\n",
       "      <th>1</th>\n",
       "      <td>2012-07-10</td>\n",
       "      <td>41100</td>\n",
       "      <td>32.169998</td>\n",
       "      <td>31.990000</td>\n",
       "      <td>32.880001</td>\n",
       "      <td>17785200</td>\n",
       "    </tr>\n",
       "    <tr>\n",
       "      <th>2</th>\n",
       "      <td>2012-07-11</td>\n",
       "      <td>41101</td>\n",
       "      <td>31.469999</td>\n",
       "      <td>31.160000</td>\n",
       "      <td>32.480000</td>\n",
       "      <td>14269500</td>\n",
       "    </tr>\n",
       "    <tr>\n",
       "      <th>3</th>\n",
       "      <td>2012-07-12</td>\n",
       "      <td>41102</td>\n",
       "      <td>30.969999</td>\n",
       "      <td>30.549999</td>\n",
       "      <td>31.559999</td>\n",
       "      <td>13030300</td>\n",
       "    </tr>\n",
       "    <tr>\n",
       "      <th>4</th>\n",
       "      <td>2012-07-13</td>\n",
       "      <td>41103</td>\n",
       "      <td>30.809999</td>\n",
       "      <td>30.600000</td>\n",
       "      <td>31.400000</td>\n",
       "      <td>11300700</td>\n",
       "    </tr>\n",
       "    <tr>\n",
       "      <th>...</th>\n",
       "      <td>...</td>\n",
       "      <td>...</td>\n",
       "      <td>...</td>\n",
       "      <td>...</td>\n",
       "      <td>...</td>\n",
       "      <td>...</td>\n",
       "    </tr>\n",
       "    <tr>\n",
       "      <th>1603</th>\n",
       "      <td>2018-11-21</td>\n",
       "      <td>43425</td>\n",
       "      <td>132.429993</td>\n",
       "      <td>126.849998</td>\n",
       "      <td>134.160004</td>\n",
       "      <td>41939500</td>\n",
       "    </tr>\n",
       "    <tr>\n",
       "      <th>1604</th>\n",
       "      <td>2018-11-23</td>\n",
       "      <td>43427</td>\n",
       "      <td>134.820007</td>\n",
       "      <td>134.130005</td>\n",
       "      <td>137.190002</td>\n",
       "      <td>25469700</td>\n",
       "    </tr>\n",
       "    <tr>\n",
       "      <th>1605</th>\n",
       "      <td>2018-11-26</td>\n",
       "      <td>43430</td>\n",
       "      <td>131.729996</td>\n",
       "      <td>131.259995</td>\n",
       "      <td>134.500000</td>\n",
       "      <td>11886100</td>\n",
       "    </tr>\n",
       "    <tr>\n",
       "      <th>1606</th>\n",
       "      <td>2018-11-27</td>\n",
       "      <td>43431</td>\n",
       "      <td>136.380005</td>\n",
       "      <td>132.779999</td>\n",
       "      <td>137.000000</td>\n",
       "      <td>24263600</td>\n",
       "    </tr>\n",
       "    <tr>\n",
       "      <th>1607</th>\n",
       "      <td>2018-11-28</td>\n",
       "      <td>43432</td>\n",
       "      <td>135.000000</td>\n",
       "      <td>133.710007</td>\n",
       "      <td>136.610001</td>\n",
       "      <td>20750300</td>\n",
       "    </tr>\n",
       "  </tbody>\n",
       "</table>\n",
       "<p>1608 rows × 6 columns</p>\n",
       "</div>"
      ],
      "text/plain": [
       "            Date     ID       Close         Low        High    Volume\n",
       "0     2012-07-09  41099   31.730000   31.260000   31.900000  10945600\n",
       "1     2012-07-10  41100   32.169998   31.990000   32.880001  17785200\n",
       "2     2012-07-11  41101   31.469999   31.160000   32.480000  14269500\n",
       "3     2012-07-12  41102   30.969999   30.549999   31.559999  13030300\n",
       "4     2012-07-13  41103   30.809999   30.600000   31.400000  11300700\n",
       "...          ...    ...         ...         ...         ...       ...\n",
       "1603  2018-11-21  43425  132.429993  126.849998  134.160004  41939500\n",
       "1604  2018-11-23  43427  134.820007  134.130005  137.190002  25469700\n",
       "1605  2018-11-26  43430  131.729996  131.259995  134.500000  11886100\n",
       "1606  2018-11-27  43431  136.380005  132.779999  137.000000  24263600\n",
       "1607  2018-11-28  43432  135.000000  133.710007  136.610001  20750300\n",
       "\n",
       "[1608 rows x 6 columns]"
      ]
     },
     "execution_count": 18,
     "metadata": {},
     "output_type": "execute_result"
    }
   ],
   "source": [
    "fb"
   ]
  },
  {
   "cell_type": "markdown",
   "metadata": {},
   "source": [
    "## Create a new column in the DataFrame (1) - Price difference"
   ]
  },
  {
   "cell_type": "code",
   "execution_count": 59,
   "metadata": {},
   "outputs": [],
   "source": [
    "#Create a new column PriceDiff in the DataFrame fb\n",
    "fb['PriceDiff'] = fb['Close'].shift(-1) - fb['Close']\n",
    "fb['Close1']=fb['Close'].shift(-1)\n"
   ]
  },
  {
   "cell_type": "code",
   "execution_count": 22,
   "metadata": {},
   "outputs": [
    {
     "name": "stdout",
     "output_type": "stream",
     "text": [
      "0       0.439998\n",
      "1      -0.699999\n",
      "2      -0.500000\n",
      "3      -0.160000\n",
      "4      -0.090000\n",
      "          ...   \n",
      "1603    2.390014\n",
      "1604   -3.090011\n",
      "1605    4.650009\n",
      "1606   -1.380005\n",
      "1607         NaN\n",
      "Name: PriceDiff, Length: 1608, dtype: float64\n"
     ]
    }
   ],
   "source": [
    "#Run this code to display the price difference of Microsoft on 2015-01-05\n",
    "print(fb['PriceDiff'])"
   ]
  },
  {
   "cell_type": "markdown",
   "metadata": {},
   "source": [
    "## Create a new column in the DataFrame (2) - Daily return\n",
    "\n",
    "Daily Return is calcuated as PriceDiff/Close"
   ]
  },
  {
   "cell_type": "code",
   "execution_count": 23,
   "metadata": {},
   "outputs": [],
   "source": [
    "#Create a new column Return in the DataFrame fb\n",
    "fb['Return'] = fb['PriceDiff'] /fb['Close']\n"
   ]
  },
  {
   "cell_type": "code",
   "execution_count": 25,
   "metadata": {},
   "outputs": [
    {
     "name": "stdout",
     "output_type": "stream",
     "text": [
      "0       0.013867\n",
      "1      -0.021759\n",
      "2      -0.015888\n",
      "3      -0.005166\n",
      "4      -0.002921\n",
      "          ...   \n",
      "1603    0.018047\n",
      "1604   -0.022920\n",
      "1605    0.035300\n",
      "1606   -0.010119\n",
      "1607         NaN\n",
      "Name: Return, Length: 1608, dtype: float64\n"
     ]
    }
   ],
   "source": [
    "#Run this code to print the return on 2015-01-05\n",
    "print(fb['Return'])"
   ]
  },
  {
   "cell_type": "markdown",
   "metadata": {},
   "source": [
    "## Create a new column in the DataFrame using List Comprehension - Direction"
   ]
  },
  {
   "cell_type": "code",
   "execution_count": 45,
   "metadata": {},
   "outputs": [
    {
     "data": {
      "text/html": [
       "<div>\n",
       "<style scoped>\n",
       "    .dataframe tbody tr th:only-of-type {\n",
       "        vertical-align: middle;\n",
       "    }\n",
       "\n",
       "    .dataframe tbody tr th {\n",
       "        vertical-align: top;\n",
       "    }\n",
       "\n",
       "    .dataframe thead th {\n",
       "        text-align: right;\n",
       "    }\n",
       "</style>\n",
       "<table border=\"1\" class=\"dataframe\">\n",
       "  <thead>\n",
       "    <tr style=\"text-align: right;\">\n",
       "      <th></th>\n",
       "      <th>Date</th>\n",
       "      <th>ID</th>\n",
       "      <th>Close</th>\n",
       "      <th>Low</th>\n",
       "      <th>High</th>\n",
       "      <th>Volume</th>\n",
       "      <th>PriceDiff</th>\n",
       "      <th>Return</th>\n",
       "      <th>Direction</th>\n",
       "      <th>ma50</th>\n",
       "      <th>ma10</th>\n",
       "    </tr>\n",
       "  </thead>\n",
       "  <tbody>\n",
       "    <tr>\n",
       "      <th>0</th>\n",
       "      <td>2012-07-09</td>\n",
       "      <td>41099</td>\n",
       "      <td>31.730000</td>\n",
       "      <td>31.260000</td>\n",
       "      <td>31.900000</td>\n",
       "      <td>10945600</td>\n",
       "      <td>0.439998</td>\n",
       "      <td>0.013867</td>\n",
       "      <td>1</td>\n",
       "      <td>NaN</td>\n",
       "      <td>NaN</td>\n",
       "    </tr>\n",
       "    <tr>\n",
       "      <th>1</th>\n",
       "      <td>2012-07-10</td>\n",
       "      <td>41100</td>\n",
       "      <td>32.169998</td>\n",
       "      <td>31.990000</td>\n",
       "      <td>32.880001</td>\n",
       "      <td>17785200</td>\n",
       "      <td>-0.699999</td>\n",
       "      <td>-0.021759</td>\n",
       "      <td>0</td>\n",
       "      <td>NaN</td>\n",
       "      <td>NaN</td>\n",
       "    </tr>\n",
       "    <tr>\n",
       "      <th>2</th>\n",
       "      <td>2012-07-11</td>\n",
       "      <td>41101</td>\n",
       "      <td>31.469999</td>\n",
       "      <td>31.160000</td>\n",
       "      <td>32.480000</td>\n",
       "      <td>14269500</td>\n",
       "      <td>-0.500000</td>\n",
       "      <td>-0.015888</td>\n",
       "      <td>0</td>\n",
       "      <td>NaN</td>\n",
       "      <td>NaN</td>\n",
       "    </tr>\n",
       "    <tr>\n",
       "      <th>3</th>\n",
       "      <td>2012-07-12</td>\n",
       "      <td>41102</td>\n",
       "      <td>30.969999</td>\n",
       "      <td>30.549999</td>\n",
       "      <td>31.559999</td>\n",
       "      <td>13030300</td>\n",
       "      <td>-0.160000</td>\n",
       "      <td>-0.005166</td>\n",
       "      <td>0</td>\n",
       "      <td>NaN</td>\n",
       "      <td>NaN</td>\n",
       "    </tr>\n",
       "    <tr>\n",
       "      <th>4</th>\n",
       "      <td>2012-07-13</td>\n",
       "      <td>41103</td>\n",
       "      <td>30.809999</td>\n",
       "      <td>30.600000</td>\n",
       "      <td>31.400000</td>\n",
       "      <td>11300700</td>\n",
       "      <td>-0.090000</td>\n",
       "      <td>-0.002921</td>\n",
       "      <td>0</td>\n",
       "      <td>NaN</td>\n",
       "      <td>NaN</td>\n",
       "    </tr>\n",
       "    <tr>\n",
       "      <th>5</th>\n",
       "      <td>2012-07-16</td>\n",
       "      <td>41106</td>\n",
       "      <td>30.719999</td>\n",
       "      <td>30.559999</td>\n",
       "      <td>31.070000</td>\n",
       "      <td>8108300</td>\n",
       "      <td>-2.469999</td>\n",
       "      <td>-0.080404</td>\n",
       "      <td>0</td>\n",
       "      <td>NaN</td>\n",
       "      <td>NaN</td>\n",
       "    </tr>\n",
       "    <tr>\n",
       "      <th>6</th>\n",
       "      <td>2012-07-17</td>\n",
       "      <td>41107</td>\n",
       "      <td>28.250000</td>\n",
       "      <td>28.209999</td>\n",
       "      <td>30.500000</td>\n",
       "      <td>24672100</td>\n",
       "      <td>-0.160000</td>\n",
       "      <td>-0.005664</td>\n",
       "      <td>0</td>\n",
       "      <td>NaN</td>\n",
       "      <td>NaN</td>\n",
       "    </tr>\n",
       "    <tr>\n",
       "      <th>7</th>\n",
       "      <td>2012-07-18</td>\n",
       "      <td>41108</td>\n",
       "      <td>28.090000</td>\n",
       "      <td>27.150000</td>\n",
       "      <td>28.590000</td>\n",
       "      <td>30438600</td>\n",
       "      <td>1.020001</td>\n",
       "      <td>0.036312</td>\n",
       "      <td>1</td>\n",
       "      <td>NaN</td>\n",
       "      <td>NaN</td>\n",
       "    </tr>\n",
       "    <tr>\n",
       "      <th>8</th>\n",
       "      <td>2012-07-19</td>\n",
       "      <td>41109</td>\n",
       "      <td>29.110001</td>\n",
       "      <td>28.150000</td>\n",
       "      <td>29.290001</td>\n",
       "      <td>16841800</td>\n",
       "      <td>-0.110001</td>\n",
       "      <td>-0.003779</td>\n",
       "      <td>0</td>\n",
       "      <td>NaN</td>\n",
       "      <td>NaN</td>\n",
       "    </tr>\n",
       "    <tr>\n",
       "      <th>9</th>\n",
       "      <td>2012-07-20</td>\n",
       "      <td>41110</td>\n",
       "      <td>29.000000</td>\n",
       "      <td>28.629999</td>\n",
       "      <td>29.500000</td>\n",
       "      <td>13685100</td>\n",
       "      <td>-0.240000</td>\n",
       "      <td>-0.008276</td>\n",
       "      <td>0</td>\n",
       "      <td>30.232</td>\n",
       "      <td>30.232</td>\n",
       "    </tr>\n",
       "  </tbody>\n",
       "</table>\n",
       "</div>"
      ],
      "text/plain": [
       "         Date     ID      Close        Low       High    Volume  PriceDiff  \\\n",
       "0  2012-07-09  41099  31.730000  31.260000  31.900000  10945600   0.439998   \n",
       "1  2012-07-10  41100  32.169998  31.990000  32.880001  17785200  -0.699999   \n",
       "2  2012-07-11  41101  31.469999  31.160000  32.480000  14269500  -0.500000   \n",
       "3  2012-07-12  41102  30.969999  30.549999  31.559999  13030300  -0.160000   \n",
       "4  2012-07-13  41103  30.809999  30.600000  31.400000  11300700  -0.090000   \n",
       "5  2012-07-16  41106  30.719999  30.559999  31.070000   8108300  -2.469999   \n",
       "6  2012-07-17  41107  28.250000  28.209999  30.500000  24672100  -0.160000   \n",
       "7  2012-07-18  41108  28.090000  27.150000  28.590000  30438600   1.020001   \n",
       "8  2012-07-19  41109  29.110001  28.150000  29.290001  16841800  -0.110001   \n",
       "9  2012-07-20  41110  29.000000  28.629999  29.500000  13685100  -0.240000   \n",
       "\n",
       "     Return  Direction    ma50    ma10  \n",
       "0  0.013867          1     NaN     NaN  \n",
       "1 -0.021759          0     NaN     NaN  \n",
       "2 -0.015888          0     NaN     NaN  \n",
       "3 -0.005166          0     NaN     NaN  \n",
       "4 -0.002921          0     NaN     NaN  \n",
       "5 -0.080404          0     NaN     NaN  \n",
       "6 -0.005664          0     NaN     NaN  \n",
       "7  0.036312          1     NaN     NaN  \n",
       "8 -0.003779          0     NaN     NaN  \n",
       "9 -0.008276          0  30.232  30.232  "
      ]
     },
     "execution_count": 45,
     "metadata": {},
     "output_type": "execute_result"
    }
   ],
   "source": [
    "fb.head(10)"
   ]
  },
  {
   "cell_type": "code",
   "execution_count": 31,
   "metadata": {},
   "outputs": [],
   "source": [
    "#Create a new column Direction. \n",
    "#The List Comprehension means : if the price difference is larger than 0, denote as 1, otherwise, denote as 0,\n",
    "#for every record in the DataFrame - fb\n",
    "\n",
    "fb['Direction'] = [1 if fb['PriceDiff'].loc[ei] > 0 else 0 for ei in fb.index ]"
   ]
  },
  {
   "cell_type": "markdown",
   "metadata": {},
   "source": [
    "** Expected Output: ** Price difference on 2015-01-05 is -0.6799999999999997. direction is 0"
   ]
  },
  {
   "cell_type": "markdown",
   "metadata": {},
   "source": [
    "## Create a new column in the DataFrame using Rolling Window calculation (.rolling()) - Moving average"
   ]
  },
  {
   "cell_type": "code",
   "execution_count": 48,
   "metadata": {},
   "outputs": [],
   "source": [
    "fb['ma10'] = fb['Close'].rolling(10).mean()#fast signal\n",
    "fb['ma50'] = fb['Close'].rolling(50).mean()#slow\n",
    "\n",
    "# ex=fb['Close'][:10]\n",
    "# ex.describe()\n",
    "\n",
    "\n"
   ]
  },
  {
   "cell_type": "code",
   "execution_count": 52,
   "metadata": {},
   "outputs": [
    {
     "data": {
      "text/plain": [
       "<matplotlib.axes._subplots.AxesSubplot at 0xbde86d0>"
      ]
     },
     "execution_count": 52,
     "metadata": {},
     "output_type": "execute_result"
    },
    {
     "data": {
      "image/png": "[encoded data removed]",
      "text/plain": [
       "<Figure size 432x288 with 1 Axes>"
      ]
     },
     "metadata": {
      "needs_background": "light"
     },
     "output_type": "display_data"
    }
   ],
   "source": [
    "fb['Close'].plot(legend=True)\n",
    "fb['ma10'].plot(legend=True)\n",
    "fb['ma50'].plot(legend=True)\n",
    "# if ma10>ma50 then buy and share the stock"
   ]
  },
  {
   "cell_type": "code",
   "execution_count": 55,
   "metadata": {},
   "outputs": [],
   "source": [
    "fb['Shares']=[1 if fb.loc[ei,'ma10']>fb.loc[ei,'ma50'] else 0 for ei in fb.index]"
   ]
  },
  {
   "cell_type": "code",
   "execution_count": 63,
   "metadata": {},
   "outputs": [],
   "source": [
    "fb['Profit']=[fb.loc[el,'PriceDiff'] if fb.loc[el,'Shares']==1 else 0 for el in fb.index ]"
   ]
  },
  {
   "cell_type": "code",
   "execution_count": 69,
   "metadata": {},
   "outputs": [
    {
     "data": {
      "text/html": [
       "<div>\n",
       "<style scoped>\n",
       "    .dataframe tbody tr th:only-of-type {\n",
       "        vertical-align: middle;\n",
       "    }\n",
       "\n",
       "    .dataframe tbody tr th {\n",
       "        vertical-align: top;\n",
       "    }\n",
       "\n",
       "    .dataframe thead th {\n",
       "        text-align: right;\n",
       "    }\n",
       "</style>\n",
       "<table border=\"1\" class=\"dataframe\">\n",
       "  <thead>\n",
       "    <tr style=\"text-align: right;\">\n",
       "      <th></th>\n",
       "      <th>Date</th>\n",
       "      <th>ID</th>\n",
       "      <th>Close</th>\n",
       "      <th>Low</th>\n",
       "      <th>High</th>\n",
       "      <th>Volume</th>\n",
       "      <th>PriceDiff</th>\n",
       "      <th>Return</th>\n",
       "      <th>Direction</th>\n",
       "      <th>ma50</th>\n",
       "      <th>ma10</th>\n",
       "      <th>Shares</th>\n",
       "      <th>Close1</th>\n",
       "      <th>Profit</th>\n",
       "      <th>wealth</th>\n",
       "    </tr>\n",
       "  </thead>\n",
       "  <tbody>\n",
       "    <tr>\n",
       "      <th>1603</th>\n",
       "      <td>2018-11-21</td>\n",
       "      <td>43425</td>\n",
       "      <td>132.429993</td>\n",
       "      <td>126.849998</td>\n",
       "      <td>134.160004</td>\n",
       "      <td>41939500</td>\n",
       "      <td>2.390014</td>\n",
       "      <td>0.018047</td>\n",
       "      <td>1</td>\n",
       "      <td>153.9166</td>\n",
       "      <td>141.965001</td>\n",
       "      <td>0</td>\n",
       "      <td>134.820007</td>\n",
       "      <td>0.0</td>\n",
       "      <td>70.710007</td>\n",
       "    </tr>\n",
       "    <tr>\n",
       "      <th>1604</th>\n",
       "      <td>2018-11-23</td>\n",
       "      <td>43427</td>\n",
       "      <td>134.820007</td>\n",
       "      <td>134.130005</td>\n",
       "      <td>137.190002</td>\n",
       "      <td>25469700</td>\n",
       "      <td>-3.090011</td>\n",
       "      <td>-0.022920</td>\n",
       "      <td>0</td>\n",
       "      <td>153.3730</td>\n",
       "      <td>140.294002</td>\n",
       "      <td>0</td>\n",
       "      <td>131.729996</td>\n",
       "      <td>0.0</td>\n",
       "      <td>70.710007</td>\n",
       "    </tr>\n",
       "    <tr>\n",
       "      <th>1605</th>\n",
       "      <td>2018-11-26</td>\n",
       "      <td>43430</td>\n",
       "      <td>131.729996</td>\n",
       "      <td>131.259995</td>\n",
       "      <td>134.500000</td>\n",
       "      <td>11886100</td>\n",
       "      <td>4.650009</td>\n",
       "      <td>0.035300</td>\n",
       "      <td>1</td>\n",
       "      <td>152.7804</td>\n",
       "      <td>138.680002</td>\n",
       "      <td>0</td>\n",
       "      <td>136.380005</td>\n",
       "      <td>0.0</td>\n",
       "      <td>70.710007</td>\n",
       "    </tr>\n",
       "    <tr>\n",
       "      <th>1606</th>\n",
       "      <td>2018-11-27</td>\n",
       "      <td>43431</td>\n",
       "      <td>136.380005</td>\n",
       "      <td>132.779999</td>\n",
       "      <td>137.000000</td>\n",
       "      <td>24263600</td>\n",
       "      <td>-1.380005</td>\n",
       "      <td>-0.010119</td>\n",
       "      <td>0</td>\n",
       "      <td>152.2616</td>\n",
       "      <td>137.822002</td>\n",
       "      <td>0</td>\n",
       "      <td>135.000000</td>\n",
       "      <td>0.0</td>\n",
       "      <td>70.710007</td>\n",
       "    </tr>\n",
       "    <tr>\n",
       "      <th>1607</th>\n",
       "      <td>2018-11-28</td>\n",
       "      <td>43432</td>\n",
       "      <td>135.000000</td>\n",
       "      <td>133.710007</td>\n",
       "      <td>136.610001</td>\n",
       "      <td>20750300</td>\n",
       "      <td>NaN</td>\n",
       "      <td>NaN</td>\n",
       "      <td>0</td>\n",
       "      <td>151.7500</td>\n",
       "      <td>137.167001</td>\n",
       "      <td>0</td>\n",
       "      <td>NaN</td>\n",
       "      <td>0.0</td>\n",
       "      <td>70.710007</td>\n",
       "    </tr>\n",
       "  </tbody>\n",
       "</table>\n",
       "</div>"
      ],
      "text/plain": [
       "            Date     ID       Close         Low        High    Volume  \\\n",
       "1603  2018-11-21  43425  132.429993  126.849998  134.160004  41939500   \n",
       "1604  2018-11-23  43427  134.820007  134.130005  137.190002  25469700   \n",
       "1605  2018-11-26  43430  131.729996  131.259995  134.500000  11886100   \n",
       "1606  2018-11-27  43431  136.380005  132.779999  137.000000  24263600   \n",
       "1607  2018-11-28  43432  135.000000  133.710007  136.610001  20750300   \n",
       "\n",
       "      PriceDiff    Return  Direction      ma50        ma10  Shares  \\\n",
       "1603   2.390014  0.018047          1  153.9166  141.965001       0   \n",
       "1604  -3.090011 -0.022920          0  153.3730  140.294002       0   \n",
       "1605   4.650009  0.035300          1  152.7804  138.680002       0   \n",
       "1606  -1.380005 -0.010119          0  152.2616  137.822002       0   \n",
       "1607        NaN       NaN          0  151.7500  137.167001       0   \n",
       "\n",
       "          Close1  Profit     wealth  \n",
       "1603  134.820007     0.0  70.710007  \n",
       "1604  131.729996     0.0  70.710007  \n",
       "1605  136.380005     0.0  70.710007  \n",
       "1606  135.000000     0.0  70.710007  \n",
       "1607         NaN     0.0  70.710007  "
      ]
     },
     "execution_count": 69,
     "metadata": {},
     "output_type": "execute_result"
    }
   ],
   "source": [
    "fb.tail()"
   ]
  },
  {
   "cell_type": "code",
   "execution_count": 70,
   "metadata": {},
   "outputs": [
    {
     "data": {
      "text/plain": [
       "<matplotlib.axes._subplots.AxesSubplot at 0x562eaf0>"
      ]
     },
     "execution_count": 70,
     "metadata": {},
     "output_type": "execute_result"
    },
    {
     "data": {
      "image/png": "[encoded data removed]",
      "text/plain": [
       "<Figure size 432x288 with 1 Axes>"
      ]
     },
     "metadata": {
      "needs_background": "light"
     },
     "output_type": "display_data"
    }
   ],
   "source": [
    "fb['wealth'].plot()"
   ]
  },
  {
   "cell_type": "code",
   "execution_count": 65,
   "metadata": {},
   "outputs": [],
   "source": [
    "fb['wealth']=fb['Profit'].cumsum()\n",
    "# its give the make money or loss money"
   ]
  },
  {
   "cell_type": "code",
   "execution_count": 62,
   "metadata": {},
   "outputs": [
    {
     "ename": "TypeError",
     "evalue": "no numeric data to plot",
     "output_type": "error",
     "traceback": [
      "\u001b[1;31m---------------------------------------------------------------------------\u001b[0m",
      "\u001b[1;31mTypeError\u001b[0m                                 Traceback (most recent call last)",
      "\u001b[1;32m<ipython-input-62-1a34f8cd2832>\u001b[0m in \u001b[0;36m<module>\u001b[1;34m\u001b[0m\n\u001b[0;32m      1\u001b[0m \u001b[1;31m#plot the moving average\u001b[0m\u001b[1;33m\u001b[0m\u001b[1;33m\u001b[0m\u001b[1;33m\u001b[0m\u001b[0m\n\u001b[0;32m      2\u001b[0m \u001b[0mplt\u001b[0m\u001b[1;33m.\u001b[0m\u001b[0mfigure\u001b[0m\u001b[1;33m(\u001b[0m\u001b[0mfigsize\u001b[0m\u001b[1;33m=\u001b[0m\u001b[1;33m(\u001b[0m\u001b[1;36m10\u001b[0m\u001b[1;33m,\u001b[0m \u001b[1;36m8\u001b[0m\u001b[1;33m)\u001b[0m\u001b[1;33m)\u001b[0m\u001b[1;33m\u001b[0m\u001b[1;33m\u001b[0m\u001b[0m\n\u001b[1;32m----> 3\u001b[1;33m \u001b[0mfb\u001b[0m\u001b[1;33m[\u001b[0m\u001b[1;34m'ma50'\u001b[0m\u001b[1;33m]\u001b[0m\u001b[1;33m.\u001b[0m\u001b[0mloc\u001b[0m\u001b[1;33m[\u001b[0m\u001b[1;34m'2015-01-01'\u001b[0m\u001b[1;33m:\u001b[0m\u001b[1;34m'2015-12-31'\u001b[0m\u001b[1;33m]\u001b[0m\u001b[1;33m.\u001b[0m\u001b[0mplot\u001b[0m\u001b[1;33m(\u001b[0m\u001b[0mlabel\u001b[0m\u001b[1;33m=\u001b[0m\u001b[1;34m'MA50'\u001b[0m\u001b[1;33m)\u001b[0m\u001b[1;33m\u001b[0m\u001b[1;33m\u001b[0m\u001b[0m\n\u001b[0m\u001b[0;32m      4\u001b[0m \u001b[0mfb\u001b[0m\u001b[1;33m[\u001b[0m\u001b[1;34m'Close'\u001b[0m\u001b[1;33m]\u001b[0m\u001b[1;33m.\u001b[0m\u001b[0mloc\u001b[0m\u001b[1;33m[\u001b[0m\u001b[1;34m'2012-07-09'\u001b[0m\u001b[1;33m:\u001b[0m\u001b[1;34m'2012-07-27'\u001b[0m\u001b[1;33m]\u001b[0m\u001b[1;33m.\u001b[0m\u001b[0mplot\u001b[0m\u001b[1;33m(\u001b[0m\u001b[0mlabel\u001b[0m\u001b[1;33m=\u001b[0m\u001b[1;34m'Close'\u001b[0m\u001b[1;33m)\u001b[0m\u001b[1;33m\u001b[0m\u001b[1;33m\u001b[0m\u001b[0m\n\u001b[0;32m      5\u001b[0m \u001b[0mplt\u001b[0m\u001b[1;33m.\u001b[0m\u001b[0mlegend\u001b[0m\u001b[1;33m(\u001b[0m\u001b[1;33m)\u001b[0m\u001b[1;33m\u001b[0m\u001b[1;33m\u001b[0m\u001b[0m\n",
      "\u001b[1;32mc:\\users\\ajs\\appdata\\local\\programs\\python\\python37-32\\lib\\site-packages\\pandas\\plotting\\_core.py\u001b[0m in \u001b[0;36m__call__\u001b[1;34m(self, *args, **kwargs)\u001b[0m\n\u001b[0;32m    792\u001b[0m                     \u001b[0mdata\u001b[0m\u001b[1;33m.\u001b[0m\u001b[0mcolumns\u001b[0m \u001b[1;33m=\u001b[0m \u001b[0mlabel_name\u001b[0m\u001b[1;33m\u001b[0m\u001b[1;33m\u001b[0m\u001b[0m\n\u001b[0;32m    793\u001b[0m \u001b[1;33m\u001b[0m\u001b[0m\n\u001b[1;32m--> 794\u001b[1;33m         \u001b[1;32mreturn\u001b[0m \u001b[0mplot_backend\u001b[0m\u001b[1;33m.\u001b[0m\u001b[0mplot\u001b[0m\u001b[1;33m(\u001b[0m\u001b[0mdata\u001b[0m\u001b[1;33m,\u001b[0m \u001b[0mkind\u001b[0m\u001b[1;33m=\u001b[0m\u001b[0mkind\u001b[0m\u001b[1;33m,\u001b[0m \u001b[1;33m**\u001b[0m\u001b[0mkwargs\u001b[0m\u001b[1;33m)\u001b[0m\u001b[1;33m\u001b[0m\u001b[1;33m\u001b[0m\u001b[0m\n\u001b[0m\u001b[0;32m    795\u001b[0m \u001b[1;33m\u001b[0m\u001b[0m\n\u001b[0;32m    796\u001b[0m     \u001b[1;32mdef\u001b[0m \u001b[0mline\u001b[0m\u001b[1;33m(\u001b[0m\u001b[0mself\u001b[0m\u001b[1;33m,\u001b[0m \u001b[0mx\u001b[0m\u001b[1;33m=\u001b[0m\u001b[1;32mNone\u001b[0m\u001b[1;33m,\u001b[0m \u001b[0my\u001b[0m\u001b[1;33m=\u001b[0m\u001b[1;32mNone\u001b[0m\u001b[1;33m,\u001b[0m \u001b[1;33m**\u001b[0m\u001b[0mkwargs\u001b[0m\u001b[1;33m)\u001b[0m\u001b[1;33m:\u001b[0m\u001b[1;33m\u001b[0m\u001b[1;33m\u001b[0m\u001b[0m\n",
      "\u001b[1;32mc:\\users\\ajs\\appdata\\local\\programs\\python\\python37-32\\lib\\site-packages\\pandas\\plotting\\_matplotlib\\__init__.py\u001b[0m in \u001b[0;36mplot\u001b[1;34m(data, kind, **kwargs)\u001b[0m\n\u001b[0;32m     60\u001b[0m             \u001b[0mkwargs\u001b[0m\u001b[1;33m[\u001b[0m\u001b[1;34m\"ax\"\u001b[0m\u001b[1;33m]\u001b[0m \u001b[1;33m=\u001b[0m \u001b[0mgetattr\u001b[0m\u001b[1;33m(\u001b[0m\u001b[0max\u001b[0m\u001b[1;33m,\u001b[0m \u001b[1;34m\"left_ax\"\u001b[0m\u001b[1;33m,\u001b[0m \u001b[0max\u001b[0m\u001b[1;33m)\u001b[0m\u001b[1;33m\u001b[0m\u001b[1;33m\u001b[0m\u001b[0m\n\u001b[0;32m     61\u001b[0m     \u001b[0mplot_obj\u001b[0m \u001b[1;33m=\u001b[0m \u001b[0mPLOT_CLASSES\u001b[0m\u001b[1;33m[\u001b[0m\u001b[0mkind\u001b[0m\u001b[1;33m]\u001b[0m\u001b[1;33m(\u001b[0m\u001b[0mdata\u001b[0m\u001b[1;33m,\u001b[0m \u001b[1;33m**\u001b[0m\u001b[0mkwargs\u001b[0m\u001b[1;33m)\u001b[0m\u001b[1;33m\u001b[0m\u001b[1;33m\u001b[0m\u001b[0m\n\u001b[1;32m---> 62\u001b[1;33m     \u001b[0mplot_obj\u001b[0m\u001b[1;33m.\u001b[0m\u001b[0mgenerate\u001b[0m\u001b[1;33m(\u001b[0m\u001b[1;33m)\u001b[0m\u001b[1;33m\u001b[0m\u001b[1;33m\u001b[0m\u001b[0m\n\u001b[0m\u001b[0;32m     63\u001b[0m     \u001b[0mplot_obj\u001b[0m\u001b[1;33m.\u001b[0m\u001b[0mdraw\u001b[0m\u001b[1;33m(\u001b[0m\u001b[1;33m)\u001b[0m\u001b[1;33m\u001b[0m\u001b[1;33m\u001b[0m\u001b[0m\n\u001b[0;32m     64\u001b[0m     \u001b[1;32mreturn\u001b[0m \u001b[0mplot_obj\u001b[0m\u001b[1;33m.\u001b[0m\u001b[0mresult\u001b[0m\u001b[1;33m\u001b[0m\u001b[1;33m\u001b[0m\u001b[0m\n",
      "\u001b[1;32mc:\\users\\ajs\\appdata\\local\\programs\\python\\python37-32\\lib\\site-packages\\pandas\\plotting\\_matplotlib\\core.py\u001b[0m in \u001b[0;36mgenerate\u001b[1;34m(self)\u001b[0m\n\u001b[0;32m    277\u001b[0m     \u001b[1;32mdef\u001b[0m \u001b[0mgenerate\u001b[0m\u001b[1;33m(\u001b[0m\u001b[0mself\u001b[0m\u001b[1;33m)\u001b[0m\u001b[1;33m:\u001b[0m\u001b[1;33m\u001b[0m\u001b[1;33m\u001b[0m\u001b[0m\n\u001b[0;32m    278\u001b[0m         \u001b[0mself\u001b[0m\u001b[1;33m.\u001b[0m\u001b[0m_args_adjust\u001b[0m\u001b[1;33m(\u001b[0m\u001b[1;33m)\u001b[0m\u001b[1;33m\u001b[0m\u001b[1;33m\u001b[0m\u001b[0m\n\u001b[1;32m--> 279\u001b[1;33m         \u001b[0mself\u001b[0m\u001b[1;33m.\u001b[0m\u001b[0m_compute_plot_data\u001b[0m\u001b[1;33m(\u001b[0m\u001b[1;33m)\u001b[0m\u001b[1;33m\u001b[0m\u001b[1;33m\u001b[0m\u001b[0m\n\u001b[0m\u001b[0;32m    280\u001b[0m         \u001b[0mself\u001b[0m\u001b[1;33m.\u001b[0m\u001b[0m_setup_subplots\u001b[0m\u001b[1;33m(\u001b[0m\u001b[1;33m)\u001b[0m\u001b[1;33m\u001b[0m\u001b[1;33m\u001b[0m\u001b[0m\n\u001b[0;32m    281\u001b[0m         \u001b[0mself\u001b[0m\u001b[1;33m.\u001b[0m\u001b[0m_make_plot\u001b[0m\u001b[1;33m(\u001b[0m\u001b[1;33m)\u001b[0m\u001b[1;33m\u001b[0m\u001b[1;33m\u001b[0m\u001b[0m\n",
      "\u001b[1;32mc:\\users\\ajs\\appdata\\local\\programs\\python\\python37-32\\lib\\site-packages\\pandas\\plotting\\_matplotlib\\core.py\u001b[0m in \u001b[0;36m_compute_plot_data\u001b[1;34m(self)\u001b[0m\n\u001b[0;32m    412\u001b[0m         \u001b[1;31m# no non-numeric frames or series allowed\u001b[0m\u001b[1;33m\u001b[0m\u001b[1;33m\u001b[0m\u001b[1;33m\u001b[0m\u001b[0m\n\u001b[0;32m    413\u001b[0m         \u001b[1;32mif\u001b[0m \u001b[0mis_empty\u001b[0m\u001b[1;33m:\u001b[0m\u001b[1;33m\u001b[0m\u001b[1;33m\u001b[0m\u001b[0m\n\u001b[1;32m--> 414\u001b[1;33m             \u001b[1;32mraise\u001b[0m \u001b[0mTypeError\u001b[0m\u001b[1;33m(\u001b[0m\u001b[1;34m\"no numeric data to plot\"\u001b[0m\u001b[1;33m)\u001b[0m\u001b[1;33m\u001b[0m\u001b[1;33m\u001b[0m\u001b[0m\n\u001b[0m\u001b[0;32m    415\u001b[0m \u001b[1;33m\u001b[0m\u001b[0m\n\u001b[0;32m    416\u001b[0m         \u001b[1;31m# GH25587: cast ExtensionArray of pandas (IntegerArray, etc.) to\u001b[0m\u001b[1;33m\u001b[0m\u001b[1;33m\u001b[0m\u001b[1;33m\u001b[0m\u001b[0m\n",
      "\u001b[1;31mTypeError\u001b[0m: no numeric data to plot"
     ]
    },
    {
     "data": {
      "image/png": "[encoded data removed]",
      "text/plain": [
       "<Figure size 720x576 with 1 Axes>"
      ]
     },
     "metadata": {
      "needs_background": "light"
     },
     "output_type": "display_data"
    }
   ],
   "source": [
    "#plot the moving average\n",
    "plt.figure(figsize=(10, 8))\n",
    "fb['ma50'].loc['2015-01-01':'2015-12-31'].plot(label='MA50')\n",
    "fb['Close'].loc['2012-07-09':'2012-07-27'].plot(label='Close')\n",
    "plt.legend()\n",
    "plt.show()"
   ]
  },
  {
   "cell_type": "code",
   "execution_count": null,
   "metadata": {
    "collapsed": true
   },
   "outputs": [],
   "source": [
    "# You can use .rolling() to calculate any numbers of days' Moving Average. This is your turn to calculate \"60 days\"\n",
    "# moving average of Microsoft, rename it as \"ma60\". And follow the codes above in plotting a graph\n",
    "\n",
    "ms['ma60'] = None\n",
    "\n",
    "#plot the moving average\n",
    "plt.figure(figsize=(10, 8))\n",
    "ms['ma60'].loc['2015-01-01':'2015-12-31'].plot(label='MA60')\n",
    "ms['Close'].loc['2015-01-01':'2015-12-31'].plot(label='Close')\n",
    "plt.legend()\n",
    "plt.show()"
   ]
  },
  {
   "cell_type": "markdown",
   "metadata": {},
   "source": [
    "** Expected Output: **"
   ]
  },
  {
   "cell_type": "markdown",
   "metadata": {},
   "source": [
    "<img src=\"MA.png\">"
   ]
  }
 ],
 "metadata": {
  "kernelspec": {
   "display_name": "Python 3",
   "language": "python",
   "name": "python3"
  },
  "language_info": {
   "codemirror_mode": {
    "name": "ipython",
    "version": 3
   },
   "file_extension": ".py",
   "mimetype": "text/x-python",
   "name": "python",
   "nbconvert_exporter": "python",
   "pygments_lexer": "ipython3",
   "version": "3.7.4"
  }
 },
 "nbformat": 4,
 "nbformat_minor": 2
}
